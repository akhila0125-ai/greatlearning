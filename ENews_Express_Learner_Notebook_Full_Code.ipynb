{
  "nbformat": 4,
  "nbformat_minor": 5,
  "metadata": {
    "kernelspec": {
      "display_name": "Python 3",
      "language": "python",
      "name": "python3"
    },
    "language_info": {
      "codemirror_mode": {
        "name": "ipython",
        "version": 3
      },
      "file_extension": ".py",
      "mimetype": "text/x-python",
      "name": "python",
      "nbconvert_exporter": "python",
      "pygments_lexer": "ipython3",
      "version": "3.8.8"
    },
    "colab": {
      "provenance": [],
      "collapsed_sections": [
        "6970dd99",
        "9d75cfa2",
        "68f3b2c9",
        "fad2de2f",
        "27906576",
        "e5fdf0c8",
        "56b3dafd",
        "c7ee4907",
        "3f58c9a7",
        "5fed2eac",
        "f5c5258d",
        "359b12f8",
        "d9affc84",
        "353e9d24",
        "d49bfa2d",
        "8d585a90",
        "3acbc947"
      ],
      "include_colab_link": true
    }
  },
  "cells": [
    {
      "cell_type": "markdown",
      "metadata": {
        "id": "view-in-github",
        "colab_type": "text"
      },
      "source": [
        "<a href=\"https://colab.research.google.com/github/akhila0125-ai/greatlearning/blob/main/ENews_Express_Learner_Notebook_Full_Code.ipynb\" target=\"_parent\"><img src=\"https://colab.research.google.com/assets/colab-badge.svg\" alt=\"Open In Colab\"/></a>"
      ]
    },
    {
      "cell_type": "markdown",
      "metadata": {
        "id": "6yDxo9u0d9Na"
      },
      "source": [
        "# Project Business Statistics: E-news Express\n"
      ],
      "id": "6yDxo9u0d9Na"
    },
    {
      "cell_type": "markdown",
      "metadata": {
        "id": "SrLd-ICEmPSD"
      },
      "source": [
        "## Define Problem Statement and Objectives"
      ],
      "id": "SrLd-ICEmPSD"
    },
    {
      "cell_type": "markdown",
      "metadata": {
        "id": "a6a3d218"
      },
      "source": [
        "## Import all the necessary libraries"
      ],
      "id": "a6a3d218"
    },
    {
      "cell_type": "code",
      "source": [
        "# Installing the libraries with the specified version.\n",
        "!pip install numpy==1.26.4 pandas==2.2.2 matplotlib==3.8.4 seaborn==0.13.2 scipy==1.14.0 -q --user"
      ],
      "metadata": {
        "id": "r_5zUIePGS-1"
      },
      "id": "r_5zUIePGS-1",
      "execution_count": 1,
      "outputs": []
    },
    {
      "cell_type": "markdown",
      "source": [
        "**Note**: *After running the above cell, kindly restart the notebook kernel and run all cells sequentially from the start again.*"
      ],
      "metadata": {
        "id": "DAaycw-QP-j9"
      },
      "id": "DAaycw-QP-j9"
    },
    {
      "cell_type": "code",
      "metadata": {
        "id": "658c5dec"
      },
      "source": [
        "# import libraries for data manipulation\n",
        "import numpy as np\n",
        "import pandas as pd\n",
        "\n",
        "# import libraries for data visualization\n",
        "import matplotlib.pyplot as plt\n",
        "import seaborn as sns\n",
        "import scipy as stats\n",
        "\n",
        "from math import sqrt\n",
        "from scipy.stats import norm\n",
        "from scipy.stats import chi2_contingency\n",
        "from scipy.stats import f_oneway\n",
        "\n",
        "\n",
        "sns.set(style=\"whitegrid\", palette=\"muted\")\n"
      ],
      "id": "658c5dec",
      "execution_count": 2,
      "outputs": []
    },
    {
      "cell_type": "markdown",
      "metadata": {
        "id": "6970dd99"
      },
      "source": [
        "## Reading the Data into a DataFrame"
      ],
      "id": "6970dd99"
    },
    {
      "cell_type": "code",
      "metadata": {
        "id": "d3b95640",
        "colab": {
          "base_uri": "https://localhost:8080/"
        },
        "outputId": "df94bd31-41ff-49a0-e533-f195189688aa"
      },
      "source": [
        "from google.colab import drive\n",
        "drive.mount(\"/content/drive\", force_remount=True)\n",
        "\n",
        "\n",
        "file_path = '/content/drive/MyDrive/abtest.csv'\n",
        "df = pd.read_csv(file_path)\n"
      ],
      "id": "d3b95640",
      "execution_count": 3,
      "outputs": [
        {
          "output_type": "stream",
          "name": "stdout",
          "text": [
            "Mounted at /content/drive\n"
          ]
        }
      ]
    },
    {
      "cell_type": "markdown",
      "metadata": {
        "id": "9d75cfa2"
      },
      "source": [
        "## Explore the dataset and extract insights using Exploratory Data Analysis"
      ],
      "id": "9d75cfa2"
    },
    {
      "cell_type": "markdown",
      "metadata": {
        "id": "27201534"
      },
      "source": [
        "- Data Overview\n",
        "  - Viewing the first and last few rows of the dataset\n",
        "  - Checking the shape of the dataset\n",
        "  - Getting the statistical summary for the variables\n",
        "- Check for missing values\n",
        "- Check for duplicates"
      ],
      "id": "27201534"
    },
    {
      "cell_type": "code",
      "metadata": {
        "id": "e1ad11d4",
        "colab": {
          "base_uri": "https://localhost:8080/",
          "height": 1000
        },
        "outputId": "f650b58b-cd82-427f-e7e0-21150992ca9f"
      },
      "source": [
        "# Data Overview\n",
        "# Viewing the first and last few rows of the dataset\n",
        "display(df.head())\n",
        "display(df.tail())\n",
        "\n",
        "# Checking the shape of the dataset - (100, 6)\n",
        "print(\"Shape of the dataset:\", df.shape)\n",
        "\n",
        "# Getting the statistical summary for the variables\n",
        "# Numerical summary\n",
        "print(\"Statistical summary (numeric variables):\")\n",
        "display(df.describe())\n",
        "\n",
        "# Categorical summary\n",
        "print(\"Statistical summary (categorical variables):\")\n",
        "display(df.describe(include=['object']))\n",
        "\n",
        "# Check for missing values - There are no missing values\n",
        "print(\"Missing values in each column:\")\n",
        "print(df.isnull().sum())\n",
        "\n",
        "# Check for duplicates - No duplicates\n",
        "print(\"Number of duplicate rows:\", df.duplicated().sum())"
      ],
      "id": "e1ad11d4",
      "execution_count": 4,
      "outputs": [
        {
          "output_type": "display_data",
          "data": {
            "text/plain": [
              "   user_id      group landing_page  time_spent_on_the_page converted  \\\n",
              "0   546592    control          old                    3.48        no   \n",
              "1   546468  treatment          new                    7.13       yes   \n",
              "2   546462  treatment          new                    4.40        no   \n",
              "3   546567    control          old                    3.02        no   \n",
              "4   546459  treatment          new                    4.75       yes   \n",
              "\n",
              "  language_preferred  \n",
              "0            Spanish  \n",
              "1            English  \n",
              "2            Spanish  \n",
              "3             French  \n",
              "4            Spanish  "
            ],
            "text/html": [
              "\n",
              "  <div id=\"df-9c640042-4a2d-4659-8923-ec4f94231bd1\" class=\"colab-df-container\">\n",
              "    <div>\n",
              "<style scoped>\n",
              "    .dataframe tbody tr th:only-of-type {\n",
              "        vertical-align: middle;\n",
              "    }\n",
              "\n",
              "    .dataframe tbody tr th {\n",
              "        vertical-align: top;\n",
              "    }\n",
              "\n",
              "    .dataframe thead th {\n",
              "        text-align: right;\n",
              "    }\n",
              "</style>\n",
              "<table border=\"1\" class=\"dataframe\">\n",
              "  <thead>\n",
              "    <tr style=\"text-align: right;\">\n",
              "      <th></th>\n",
              "      <th>user_id</th>\n",
              "      <th>group</th>\n",
              "      <th>landing_page</th>\n",
              "      <th>time_spent_on_the_page</th>\n",
              "      <th>converted</th>\n",
              "      <th>language_preferred</th>\n",
              "    </tr>\n",
              "  </thead>\n",
              "  <tbody>\n",
              "    <tr>\n",
              "      <th>0</th>\n",
              "      <td>546592</td>\n",
              "      <td>control</td>\n",
              "      <td>old</td>\n",
              "      <td>3.48</td>\n",
              "      <td>no</td>\n",
              "      <td>Spanish</td>\n",
              "    </tr>\n",
              "    <tr>\n",
              "      <th>1</th>\n",
              "      <td>546468</td>\n",
              "      <td>treatment</td>\n",
              "      <td>new</td>\n",
              "      <td>7.13</td>\n",
              "      <td>yes</td>\n",
              "      <td>English</td>\n",
              "    </tr>\n",
              "    <tr>\n",
              "      <th>2</th>\n",
              "      <td>546462</td>\n",
              "      <td>treatment</td>\n",
              "      <td>new</td>\n",
              "      <td>4.40</td>\n",
              "      <td>no</td>\n",
              "      <td>Spanish</td>\n",
              "    </tr>\n",
              "    <tr>\n",
              "      <th>3</th>\n",
              "      <td>546567</td>\n",
              "      <td>control</td>\n",
              "      <td>old</td>\n",
              "      <td>3.02</td>\n",
              "      <td>no</td>\n",
              "      <td>French</td>\n",
              "    </tr>\n",
              "    <tr>\n",
              "      <th>4</th>\n",
              "      <td>546459</td>\n",
              "      <td>treatment</td>\n",
              "      <td>new</td>\n",
              "      <td>4.75</td>\n",
              "      <td>yes</td>\n",
              "      <td>Spanish</td>\n",
              "    </tr>\n",
              "  </tbody>\n",
              "</table>\n",
              "</div>\n",
              "    <div class=\"colab-df-buttons\">\n",
              "\n",
              "  <div class=\"colab-df-container\">\n",
              "    <button class=\"colab-df-convert\" onclick=\"convertToInteractive('df-9c640042-4a2d-4659-8923-ec4f94231bd1')\"\n",
              "            title=\"Convert this dataframe to an interactive table.\"\n",
              "            style=\"display:none;\">\n",
              "\n",
              "  <svg xmlns=\"http://www.w3.org/2000/svg\" height=\"24px\" viewBox=\"0 -960 960 960\">\n",
              "    <path d=\"M120-120v-720h720v720H120Zm60-500h600v-160H180v160Zm220 220h160v-160H400v160Zm0 220h160v-160H400v160ZM180-400h160v-160H180v160Zm440 0h160v-160H620v160ZM180-180h160v-160H180v160Zm440 0h160v-160H620v160Z\"/>\n",
              "  </svg>\n",
              "    </button>\n",
              "\n",
              "  <style>\n",
              "    .colab-df-container {\n",
              "      display:flex;\n",
              "      gap: 12px;\n",
              "    }\n",
              "\n",
              "    .colab-df-convert {\n",
              "      background-color: #E8F0FE;\n",
              "      border: none;\n",
              "      border-radius: 50%;\n",
              "      cursor: pointer;\n",
              "      display: none;\n",
              "      fill: #1967D2;\n",
              "      height: 32px;\n",
              "      padding: 0 0 0 0;\n",
              "      width: 32px;\n",
              "    }\n",
              "\n",
              "    .colab-df-convert:hover {\n",
              "      background-color: #E2EBFA;\n",
              "      box-shadow: 0px 1px 2px rgba(60, 64, 67, 0.3), 0px 1px 3px 1px rgba(60, 64, 67, 0.15);\n",
              "      fill: #174EA6;\n",
              "    }\n",
              "\n",
              "    .colab-df-buttons div {\n",
              "      margin-bottom: 4px;\n",
              "    }\n",
              "\n",
              "    [theme=dark] .colab-df-convert {\n",
              "      background-color: #3B4455;\n",
              "      fill: #D2E3FC;\n",
              "    }\n",
              "\n",
              "    [theme=dark] .colab-df-convert:hover {\n",
              "      background-color: #434B5C;\n",
              "      box-shadow: 0px 1px 3px 1px rgba(0, 0, 0, 0.15);\n",
              "      filter: drop-shadow(0px 1px 2px rgba(0, 0, 0, 0.3));\n",
              "      fill: #FFFFFF;\n",
              "    }\n",
              "  </style>\n",
              "\n",
              "    <script>\n",
              "      const buttonEl =\n",
              "        document.querySelector('#df-9c640042-4a2d-4659-8923-ec4f94231bd1 button.colab-df-convert');\n",
              "      buttonEl.style.display =\n",
              "        google.colab.kernel.accessAllowed ? 'block' : 'none';\n",
              "\n",
              "      async function convertToInteractive(key) {\n",
              "        const element = document.querySelector('#df-9c640042-4a2d-4659-8923-ec4f94231bd1');\n",
              "        const dataTable =\n",
              "          await google.colab.kernel.invokeFunction('convertToInteractive',\n",
              "                                                    [key], {});\n",
              "        if (!dataTable) return;\n",
              "\n",
              "        const docLinkHtml = 'Like what you see? Visit the ' +\n",
              "          '<a target=\"_blank\" href=https://colab.research.google.com/notebooks/data_table.ipynb>data table notebook</a>'\n",
              "          + ' to learn more about interactive tables.';\n",
              "        element.innerHTML = '';\n",
              "        dataTable['output_type'] = 'display_data';\n",
              "        await google.colab.output.renderOutput(dataTable, element);\n",
              "        const docLink = document.createElement('div');\n",
              "        docLink.innerHTML = docLinkHtml;\n",
              "        element.appendChild(docLink);\n",
              "      }\n",
              "    </script>\n",
              "  </div>\n",
              "\n",
              "\n",
              "    <div id=\"df-58ff36ec-cb99-498d-b067-d6b3b39b43ac\">\n",
              "      <button class=\"colab-df-quickchart\" onclick=\"quickchart('df-58ff36ec-cb99-498d-b067-d6b3b39b43ac')\"\n",
              "                title=\"Suggest charts\"\n",
              "                style=\"display:none;\">\n",
              "\n",
              "<svg xmlns=\"http://www.w3.org/2000/svg\" height=\"24px\"viewBox=\"0 0 24 24\"\n",
              "     width=\"24px\">\n",
              "    <g>\n",
              "        <path d=\"M19 3H5c-1.1 0-2 .9-2 2v14c0 1.1.9 2 2 2h14c1.1 0 2-.9 2-2V5c0-1.1-.9-2-2-2zM9 17H7v-7h2v7zm4 0h-2V7h2v10zm4 0h-2v-4h2v4z\"/>\n",
              "    </g>\n",
              "</svg>\n",
              "      </button>\n",
              "\n",
              "<style>\n",
              "  .colab-df-quickchart {\n",
              "      --bg-color: #E8F0FE;\n",
              "      --fill-color: #1967D2;\n",
              "      --hover-bg-color: #E2EBFA;\n",
              "      --hover-fill-color: #174EA6;\n",
              "      --disabled-fill-color: #AAA;\n",
              "      --disabled-bg-color: #DDD;\n",
              "  }\n",
              "\n",
              "  [theme=dark] .colab-df-quickchart {\n",
              "      --bg-color: #3B4455;\n",
              "      --fill-color: #D2E3FC;\n",
              "      --hover-bg-color: #434B5C;\n",
              "      --hover-fill-color: #FFFFFF;\n",
              "      --disabled-bg-color: #3B4455;\n",
              "      --disabled-fill-color: #666;\n",
              "  }\n",
              "\n",
              "  .colab-df-quickchart {\n",
              "    background-color: var(--bg-color);\n",
              "    border: none;\n",
              "    border-radius: 50%;\n",
              "    cursor: pointer;\n",
              "    display: none;\n",
              "    fill: var(--fill-color);\n",
              "    height: 32px;\n",
              "    padding: 0;\n",
              "    width: 32px;\n",
              "  }\n",
              "\n",
              "  .colab-df-quickchart:hover {\n",
              "    background-color: var(--hover-bg-color);\n",
              "    box-shadow: 0 1px 2px rgba(60, 64, 67, 0.3), 0 1px 3px 1px rgba(60, 64, 67, 0.15);\n",
              "    fill: var(--button-hover-fill-color);\n",
              "  }\n",
              "\n",
              "  .colab-df-quickchart-complete:disabled,\n",
              "  .colab-df-quickchart-complete:disabled:hover {\n",
              "    background-color: var(--disabled-bg-color);\n",
              "    fill: var(--disabled-fill-color);\n",
              "    box-shadow: none;\n",
              "  }\n",
              "\n",
              "  .colab-df-spinner {\n",
              "    border: 2px solid var(--fill-color);\n",
              "    border-color: transparent;\n",
              "    border-bottom-color: var(--fill-color);\n",
              "    animation:\n",
              "      spin 1s steps(1) infinite;\n",
              "  }\n",
              "\n",
              "  @keyframes spin {\n",
              "    0% {\n",
              "      border-color: transparent;\n",
              "      border-bottom-color: var(--fill-color);\n",
              "      border-left-color: var(--fill-color);\n",
              "    }\n",
              "    20% {\n",
              "      border-color: transparent;\n",
              "      border-left-color: var(--fill-color);\n",
              "      border-top-color: var(--fill-color);\n",
              "    }\n",
              "    30% {\n",
              "      border-color: transparent;\n",
              "      border-left-color: var(--fill-color);\n",
              "      border-top-color: var(--fill-color);\n",
              "      border-right-color: var(--fill-color);\n",
              "    }\n",
              "    40% {\n",
              "      border-color: transparent;\n",
              "      border-right-color: var(--fill-color);\n",
              "      border-top-color: var(--fill-color);\n",
              "    }\n",
              "    60% {\n",
              "      border-color: transparent;\n",
              "      border-right-color: var(--fill-color);\n",
              "    }\n",
              "    80% {\n",
              "      border-color: transparent;\n",
              "      border-right-color: var(--fill-color);\n",
              "      border-bottom-color: var(--fill-color);\n",
              "    }\n",
              "    90% {\n",
              "      border-color: transparent;\n",
              "      border-bottom-color: var(--fill-color);\n",
              "    }\n",
              "  }\n",
              "</style>\n",
              "\n",
              "      <script>\n",
              "        async function quickchart(key) {\n",
              "          const quickchartButtonEl =\n",
              "            document.querySelector('#' + key + ' button');\n",
              "          quickchartButtonEl.disabled = true;  // To prevent multiple clicks.\n",
              "          quickchartButtonEl.classList.add('colab-df-spinner');\n",
              "          try {\n",
              "            const charts = await google.colab.kernel.invokeFunction(\n",
              "                'suggestCharts', [key], {});\n",
              "          } catch (error) {\n",
              "            console.error('Error during call to suggestCharts:', error);\n",
              "          }\n",
              "          quickchartButtonEl.classList.remove('colab-df-spinner');\n",
              "          quickchartButtonEl.classList.add('colab-df-quickchart-complete');\n",
              "        }\n",
              "        (() => {\n",
              "          let quickchartButtonEl =\n",
              "            document.querySelector('#df-58ff36ec-cb99-498d-b067-d6b3b39b43ac button');\n",
              "          quickchartButtonEl.style.display =\n",
              "            google.colab.kernel.accessAllowed ? 'block' : 'none';\n",
              "        })();\n",
              "      </script>\n",
              "    </div>\n",
              "\n",
              "    </div>\n",
              "  </div>\n"
            ],
            "application/vnd.google.colaboratory.intrinsic+json": {
              "type": "dataframe",
              "summary": "{\n  \"name\": \"print(\\\"Number of duplicate rows:\\\", df\",\n  \"rows\": 5,\n  \"fields\": [\n    {\n      \"column\": \"user_id\",\n      \"properties\": {\n        \"dtype\": \"number\",\n        \"std\": 64,\n        \"min\": 546459,\n        \"max\": 546592,\n        \"num_unique_values\": 5,\n        \"samples\": [\n          546468,\n          546459,\n          546462\n        ],\n        \"semantic_type\": \"\",\n        \"description\": \"\"\n      }\n    },\n    {\n      \"column\": \"group\",\n      \"properties\": {\n        \"dtype\": \"category\",\n        \"num_unique_values\": 2,\n        \"samples\": [\n          \"treatment\",\n          \"control\"\n        ],\n        \"semantic_type\": \"\",\n        \"description\": \"\"\n      }\n    },\n    {\n      \"column\": \"landing_page\",\n      \"properties\": {\n        \"dtype\": \"category\",\n        \"num_unique_values\": 2,\n        \"samples\": [\n          \"new\",\n          \"old\"\n        ],\n        \"semantic_type\": \"\",\n        \"description\": \"\"\n      }\n    },\n    {\n      \"column\": \"time_spent_on_the_page\",\n      \"properties\": {\n        \"dtype\": \"number\",\n        \"std\": 1.5972257198029336,\n        \"min\": 3.02,\n        \"max\": 7.13,\n        \"num_unique_values\": 5,\n        \"samples\": [\n          7.13,\n          4.75\n        ],\n        \"semantic_type\": \"\",\n        \"description\": \"\"\n      }\n    },\n    {\n      \"column\": \"converted\",\n      \"properties\": {\n        \"dtype\": \"category\",\n        \"num_unique_values\": 2,\n        \"samples\": [\n          \"yes\",\n          \"no\"\n        ],\n        \"semantic_type\": \"\",\n        \"description\": \"\"\n      }\n    },\n    {\n      \"column\": \"language_preferred\",\n      \"properties\": {\n        \"dtype\": \"string\",\n        \"num_unique_values\": 3,\n        \"samples\": [\n          \"Spanish\",\n          \"English\"\n        ],\n        \"semantic_type\": \"\",\n        \"description\": \"\"\n      }\n    }\n  ]\n}"
            }
          },
          "metadata": {}
        },
        {
          "output_type": "display_data",
          "data": {
            "text/plain": [
              "    user_id      group landing_page  time_spent_on_the_page converted  \\\n",
              "95   546446  treatment          new                    5.15        no   \n",
              "96   546544    control          old                    6.52       yes   \n",
              "97   546472  treatment          new                    7.07       yes   \n",
              "98   546481  treatment          new                    6.20       yes   \n",
              "99   546483  treatment          new                    5.86       yes   \n",
              "\n",
              "   language_preferred  \n",
              "95            Spanish  \n",
              "96            English  \n",
              "97            Spanish  \n",
              "98            Spanish  \n",
              "99            English  "
            ],
            "text/html": [
              "\n",
              "  <div id=\"df-d8dbaf7e-fa8a-4b95-ab4c-b6c607c8cd3a\" class=\"colab-df-container\">\n",
              "    <div>\n",
              "<style scoped>\n",
              "    .dataframe tbody tr th:only-of-type {\n",
              "        vertical-align: middle;\n",
              "    }\n",
              "\n",
              "    .dataframe tbody tr th {\n",
              "        vertical-align: top;\n",
              "    }\n",
              "\n",
              "    .dataframe thead th {\n",
              "        text-align: right;\n",
              "    }\n",
              "</style>\n",
              "<table border=\"1\" class=\"dataframe\">\n",
              "  <thead>\n",
              "    <tr style=\"text-align: right;\">\n",
              "      <th></th>\n",
              "      <th>user_id</th>\n",
              "      <th>group</th>\n",
              "      <th>landing_page</th>\n",
              "      <th>time_spent_on_the_page</th>\n",
              "      <th>converted</th>\n",
              "      <th>language_preferred</th>\n",
              "    </tr>\n",
              "  </thead>\n",
              "  <tbody>\n",
              "    <tr>\n",
              "      <th>95</th>\n",
              "      <td>546446</td>\n",
              "      <td>treatment</td>\n",
              "      <td>new</td>\n",
              "      <td>5.15</td>\n",
              "      <td>no</td>\n",
              "      <td>Spanish</td>\n",
              "    </tr>\n",
              "    <tr>\n",
              "      <th>96</th>\n",
              "      <td>546544</td>\n",
              "      <td>control</td>\n",
              "      <td>old</td>\n",
              "      <td>6.52</td>\n",
              "      <td>yes</td>\n",
              "      <td>English</td>\n",
              "    </tr>\n",
              "    <tr>\n",
              "      <th>97</th>\n",
              "      <td>546472</td>\n",
              "      <td>treatment</td>\n",
              "      <td>new</td>\n",
              "      <td>7.07</td>\n",
              "      <td>yes</td>\n",
              "      <td>Spanish</td>\n",
              "    </tr>\n",
              "    <tr>\n",
              "      <th>98</th>\n",
              "      <td>546481</td>\n",
              "      <td>treatment</td>\n",
              "      <td>new</td>\n",
              "      <td>6.20</td>\n",
              "      <td>yes</td>\n",
              "      <td>Spanish</td>\n",
              "    </tr>\n",
              "    <tr>\n",
              "      <th>99</th>\n",
              "      <td>546483</td>\n",
              "      <td>treatment</td>\n",
              "      <td>new</td>\n",
              "      <td>5.86</td>\n",
              "      <td>yes</td>\n",
              "      <td>English</td>\n",
              "    </tr>\n",
              "  </tbody>\n",
              "</table>\n",
              "</div>\n",
              "    <div class=\"colab-df-buttons\">\n",
              "\n",
              "  <div class=\"colab-df-container\">\n",
              "    <button class=\"colab-df-convert\" onclick=\"convertToInteractive('df-d8dbaf7e-fa8a-4b95-ab4c-b6c607c8cd3a')\"\n",
              "            title=\"Convert this dataframe to an interactive table.\"\n",
              "            style=\"display:none;\">\n",
              "\n",
              "  <svg xmlns=\"http://www.w3.org/2000/svg\" height=\"24px\" viewBox=\"0 -960 960 960\">\n",
              "    <path d=\"M120-120v-720h720v720H120Zm60-500h600v-160H180v160Zm220 220h160v-160H400v160Zm0 220h160v-160H400v160ZM180-400h160v-160H180v160Zm440 0h160v-160H620v160ZM180-180h160v-160H180v160Zm440 0h160v-160H620v160Z\"/>\n",
              "  </svg>\n",
              "    </button>\n",
              "\n",
              "  <style>\n",
              "    .colab-df-container {\n",
              "      display:flex;\n",
              "      gap: 12px;\n",
              "    }\n",
              "\n",
              "    .colab-df-convert {\n",
              "      background-color: #E8F0FE;\n",
              "      border: none;\n",
              "      border-radius: 50%;\n",
              "      cursor: pointer;\n",
              "      display: none;\n",
              "      fill: #1967D2;\n",
              "      height: 32px;\n",
              "      padding: 0 0 0 0;\n",
              "      width: 32px;\n",
              "    }\n",
              "\n",
              "    .colab-df-convert:hover {\n",
              "      background-color: #E2EBFA;\n",
              "      box-shadow: 0px 1px 2px rgba(60, 64, 67, 0.3), 0px 1px 3px 1px rgba(60, 64, 67, 0.15);\n",
              "      fill: #174EA6;\n",
              "    }\n",
              "\n",
              "    .colab-df-buttons div {\n",
              "      margin-bottom: 4px;\n",
              "    }\n",
              "\n",
              "    [theme=dark] .colab-df-convert {\n",
              "      background-color: #3B4455;\n",
              "      fill: #D2E3FC;\n",
              "    }\n",
              "\n",
              "    [theme=dark] .colab-df-convert:hover {\n",
              "      background-color: #434B5C;\n",
              "      box-shadow: 0px 1px 3px 1px rgba(0, 0, 0, 0.15);\n",
              "      filter: drop-shadow(0px 1px 2px rgba(0, 0, 0, 0.3));\n",
              "      fill: #FFFFFF;\n",
              "    }\n",
              "  </style>\n",
              "\n",
              "    <script>\n",
              "      const buttonEl =\n",
              "        document.querySelector('#df-d8dbaf7e-fa8a-4b95-ab4c-b6c607c8cd3a button.colab-df-convert');\n",
              "      buttonEl.style.display =\n",
              "        google.colab.kernel.accessAllowed ? 'block' : 'none';\n",
              "\n",
              "      async function convertToInteractive(key) {\n",
              "        const element = document.querySelector('#df-d8dbaf7e-fa8a-4b95-ab4c-b6c607c8cd3a');\n",
              "        const dataTable =\n",
              "          await google.colab.kernel.invokeFunction('convertToInteractive',\n",
              "                                                    [key], {});\n",
              "        if (!dataTable) return;\n",
              "\n",
              "        const docLinkHtml = 'Like what you see? Visit the ' +\n",
              "          '<a target=\"_blank\" href=https://colab.research.google.com/notebooks/data_table.ipynb>data table notebook</a>'\n",
              "          + ' to learn more about interactive tables.';\n",
              "        element.innerHTML = '';\n",
              "        dataTable['output_type'] = 'display_data';\n",
              "        await google.colab.output.renderOutput(dataTable, element);\n",
              "        const docLink = document.createElement('div');\n",
              "        docLink.innerHTML = docLinkHtml;\n",
              "        element.appendChild(docLink);\n",
              "      }\n",
              "    </script>\n",
              "  </div>\n",
              "\n",
              "\n",
              "    <div id=\"df-cd3b033d-fb17-445a-a4e1-6c273e070218\">\n",
              "      <button class=\"colab-df-quickchart\" onclick=\"quickchart('df-cd3b033d-fb17-445a-a4e1-6c273e070218')\"\n",
              "                title=\"Suggest charts\"\n",
              "                style=\"display:none;\">\n",
              "\n",
              "<svg xmlns=\"http://www.w3.org/2000/svg\" height=\"24px\"viewBox=\"0 0 24 24\"\n",
              "     width=\"24px\">\n",
              "    <g>\n",
              "        <path d=\"M19 3H5c-1.1 0-2 .9-2 2v14c0 1.1.9 2 2 2h14c1.1 0 2-.9 2-2V5c0-1.1-.9-2-2-2zM9 17H7v-7h2v7zm4 0h-2V7h2v10zm4 0h-2v-4h2v4z\"/>\n",
              "    </g>\n",
              "</svg>\n",
              "      </button>\n",
              "\n",
              "<style>\n",
              "  .colab-df-quickchart {\n",
              "      --bg-color: #E8F0FE;\n",
              "      --fill-color: #1967D2;\n",
              "      --hover-bg-color: #E2EBFA;\n",
              "      --hover-fill-color: #174EA6;\n",
              "      --disabled-fill-color: #AAA;\n",
              "      --disabled-bg-color: #DDD;\n",
              "  }\n",
              "\n",
              "  [theme=dark] .colab-df-quickchart {\n",
              "      --bg-color: #3B4455;\n",
              "      --fill-color: #D2E3FC;\n",
              "      --hover-bg-color: #434B5C;\n",
              "      --hover-fill-color: #FFFFFF;\n",
              "      --disabled-bg-color: #3B4455;\n",
              "      --disabled-fill-color: #666;\n",
              "  }\n",
              "\n",
              "  .colab-df-quickchart {\n",
              "    background-color: var(--bg-color);\n",
              "    border: none;\n",
              "    border-radius: 50%;\n",
              "    cursor: pointer;\n",
              "    display: none;\n",
              "    fill: var(--fill-color);\n",
              "    height: 32px;\n",
              "    padding: 0;\n",
              "    width: 32px;\n",
              "  }\n",
              "\n",
              "  .colab-df-quickchart:hover {\n",
              "    background-color: var(--hover-bg-color);\n",
              "    box-shadow: 0 1px 2px rgba(60, 64, 67, 0.3), 0 1px 3px 1px rgba(60, 64, 67, 0.15);\n",
              "    fill: var(--button-hover-fill-color);\n",
              "  }\n",
              "\n",
              "  .colab-df-quickchart-complete:disabled,\n",
              "  .colab-df-quickchart-complete:disabled:hover {\n",
              "    background-color: var(--disabled-bg-color);\n",
              "    fill: var(--disabled-fill-color);\n",
              "    box-shadow: none;\n",
              "  }\n",
              "\n",
              "  .colab-df-spinner {\n",
              "    border: 2px solid var(--fill-color);\n",
              "    border-color: transparent;\n",
              "    border-bottom-color: var(--fill-color);\n",
              "    animation:\n",
              "      spin 1s steps(1) infinite;\n",
              "  }\n",
              "\n",
              "  @keyframes spin {\n",
              "    0% {\n",
              "      border-color: transparent;\n",
              "      border-bottom-color: var(--fill-color);\n",
              "      border-left-color: var(--fill-color);\n",
              "    }\n",
              "    20% {\n",
              "      border-color: transparent;\n",
              "      border-left-color: var(--fill-color);\n",
              "      border-top-color: var(--fill-color);\n",
              "    }\n",
              "    30% {\n",
              "      border-color: transparent;\n",
              "      border-left-color: var(--fill-color);\n",
              "      border-top-color: var(--fill-color);\n",
              "      border-right-color: var(--fill-color);\n",
              "    }\n",
              "    40% {\n",
              "      border-color: transparent;\n",
              "      border-right-color: var(--fill-color);\n",
              "      border-top-color: var(--fill-color);\n",
              "    }\n",
              "    60% {\n",
              "      border-color: transparent;\n",
              "      border-right-color: var(--fill-color);\n",
              "    }\n",
              "    80% {\n",
              "      border-color: transparent;\n",
              "      border-right-color: var(--fill-color);\n",
              "      border-bottom-color: var(--fill-color);\n",
              "    }\n",
              "    90% {\n",
              "      border-color: transparent;\n",
              "      border-bottom-color: var(--fill-color);\n",
              "    }\n",
              "  }\n",
              "</style>\n",
              "\n",
              "      <script>\n",
              "        async function quickchart(key) {\n",
              "          const quickchartButtonEl =\n",
              "            document.querySelector('#' + key + ' button');\n",
              "          quickchartButtonEl.disabled = true;  // To prevent multiple clicks.\n",
              "          quickchartButtonEl.classList.add('colab-df-spinner');\n",
              "          try {\n",
              "            const charts = await google.colab.kernel.invokeFunction(\n",
              "                'suggestCharts', [key], {});\n",
              "          } catch (error) {\n",
              "            console.error('Error during call to suggestCharts:', error);\n",
              "          }\n",
              "          quickchartButtonEl.classList.remove('colab-df-spinner');\n",
              "          quickchartButtonEl.classList.add('colab-df-quickchart-complete');\n",
              "        }\n",
              "        (() => {\n",
              "          let quickchartButtonEl =\n",
              "            document.querySelector('#df-cd3b033d-fb17-445a-a4e1-6c273e070218 button');\n",
              "          quickchartButtonEl.style.display =\n",
              "            google.colab.kernel.accessAllowed ? 'block' : 'none';\n",
              "        })();\n",
              "      </script>\n",
              "    </div>\n",
              "\n",
              "    </div>\n",
              "  </div>\n"
            ],
            "application/vnd.google.colaboratory.intrinsic+json": {
              "type": "dataframe",
              "summary": "{\n  \"name\": \"print(\\\"Number of duplicate rows:\\\", df\",\n  \"rows\": 5,\n  \"fields\": [\n    {\n      \"column\": \"user_id\",\n      \"properties\": {\n        \"dtype\": \"number\",\n        \"std\": 36,\n        \"min\": 546446,\n        \"max\": 546544,\n        \"num_unique_values\": 5,\n        \"samples\": [\n          546544,\n          546483,\n          546472\n        ],\n        \"semantic_type\": \"\",\n        \"description\": \"\"\n      }\n    },\n    {\n      \"column\": \"group\",\n      \"properties\": {\n        \"dtype\": \"category\",\n        \"num_unique_values\": 2,\n        \"samples\": [\n          \"control\",\n          \"treatment\"\n        ],\n        \"semantic_type\": \"\",\n        \"description\": \"\"\n      }\n    },\n    {\n      \"column\": \"landing_page\",\n      \"properties\": {\n        \"dtype\": \"category\",\n        \"num_unique_values\": 2,\n        \"samples\": [\n          \"old\",\n          \"new\"\n        ],\n        \"semantic_type\": \"\",\n        \"description\": \"\"\n      }\n    },\n    {\n      \"column\": \"time_spent_on_the_page\",\n      \"properties\": {\n        \"dtype\": \"number\",\n        \"std\": 0.7192704637339141,\n        \"min\": 5.15,\n        \"max\": 7.07,\n        \"num_unique_values\": 5,\n        \"samples\": [\n          6.52,\n          5.86\n        ],\n        \"semantic_type\": \"\",\n        \"description\": \"\"\n      }\n    },\n    {\n      \"column\": \"converted\",\n      \"properties\": {\n        \"dtype\": \"category\",\n        \"num_unique_values\": 2,\n        \"samples\": [\n          \"yes\",\n          \"no\"\n        ],\n        \"semantic_type\": \"\",\n        \"description\": \"\"\n      }\n    },\n    {\n      \"column\": \"language_preferred\",\n      \"properties\": {\n        \"dtype\": \"category\",\n        \"num_unique_values\": 2,\n        \"samples\": [\n          \"English\",\n          \"Spanish\"\n        ],\n        \"semantic_type\": \"\",\n        \"description\": \"\"\n      }\n    }\n  ]\n}"
            }
          },
          "metadata": {}
        },
        {
          "output_type": "stream",
          "name": "stdout",
          "text": [
            "Shape of the dataset: (100, 6)\n",
            "Statistical summary (numeric variables):\n"
          ]
        },
        {
          "output_type": "display_data",
          "data": {
            "text/plain": [
              "             user_id  time_spent_on_the_page\n",
              "count     100.000000              100.000000\n",
              "mean   546517.000000                5.377800\n",
              "std        52.295779                2.378166\n",
              "min    546443.000000                0.190000\n",
              "25%    546467.750000                3.880000\n",
              "50%    546492.500000                5.415000\n",
              "75%    546567.250000                7.022500\n",
              "max    546592.000000               10.710000"
            ],
            "text/html": [
              "\n",
              "  <div id=\"df-003a161f-0cfd-4ad9-a93c-8d6017c6ee97\" class=\"colab-df-container\">\n",
              "    <div>\n",
              "<style scoped>\n",
              "    .dataframe tbody tr th:only-of-type {\n",
              "        vertical-align: middle;\n",
              "    }\n",
              "\n",
              "    .dataframe tbody tr th {\n",
              "        vertical-align: top;\n",
              "    }\n",
              "\n",
              "    .dataframe thead th {\n",
              "        text-align: right;\n",
              "    }\n",
              "</style>\n",
              "<table border=\"1\" class=\"dataframe\">\n",
              "  <thead>\n",
              "    <tr style=\"text-align: right;\">\n",
              "      <th></th>\n",
              "      <th>user_id</th>\n",
              "      <th>time_spent_on_the_page</th>\n",
              "    </tr>\n",
              "  </thead>\n",
              "  <tbody>\n",
              "    <tr>\n",
              "      <th>count</th>\n",
              "      <td>100.000000</td>\n",
              "      <td>100.000000</td>\n",
              "    </tr>\n",
              "    <tr>\n",
              "      <th>mean</th>\n",
              "      <td>546517.000000</td>\n",
              "      <td>5.377800</td>\n",
              "    </tr>\n",
              "    <tr>\n",
              "      <th>std</th>\n",
              "      <td>52.295779</td>\n",
              "      <td>2.378166</td>\n",
              "    </tr>\n",
              "    <tr>\n",
              "      <th>min</th>\n",
              "      <td>546443.000000</td>\n",
              "      <td>0.190000</td>\n",
              "    </tr>\n",
              "    <tr>\n",
              "      <th>25%</th>\n",
              "      <td>546467.750000</td>\n",
              "      <td>3.880000</td>\n",
              "    </tr>\n",
              "    <tr>\n",
              "      <th>50%</th>\n",
              "      <td>546492.500000</td>\n",
              "      <td>5.415000</td>\n",
              "    </tr>\n",
              "    <tr>\n",
              "      <th>75%</th>\n",
              "      <td>546567.250000</td>\n",
              "      <td>7.022500</td>\n",
              "    </tr>\n",
              "    <tr>\n",
              "      <th>max</th>\n",
              "      <td>546592.000000</td>\n",
              "      <td>10.710000</td>\n",
              "    </tr>\n",
              "  </tbody>\n",
              "</table>\n",
              "</div>\n",
              "    <div class=\"colab-df-buttons\">\n",
              "\n",
              "  <div class=\"colab-df-container\">\n",
              "    <button class=\"colab-df-convert\" onclick=\"convertToInteractive('df-003a161f-0cfd-4ad9-a93c-8d6017c6ee97')\"\n",
              "            title=\"Convert this dataframe to an interactive table.\"\n",
              "            style=\"display:none;\">\n",
              "\n",
              "  <svg xmlns=\"http://www.w3.org/2000/svg\" height=\"24px\" viewBox=\"0 -960 960 960\">\n",
              "    <path d=\"M120-120v-720h720v720H120Zm60-500h600v-160H180v160Zm220 220h160v-160H400v160Zm0 220h160v-160H400v160ZM180-400h160v-160H180v160Zm440 0h160v-160H620v160ZM180-180h160v-160H180v160Zm440 0h160v-160H620v160Z\"/>\n",
              "  </svg>\n",
              "    </button>\n",
              "\n",
              "  <style>\n",
              "    .colab-df-container {\n",
              "      display:flex;\n",
              "      gap: 12px;\n",
              "    }\n",
              "\n",
              "    .colab-df-convert {\n",
              "      background-color: #E8F0FE;\n",
              "      border: none;\n",
              "      border-radius: 50%;\n",
              "      cursor: pointer;\n",
              "      display: none;\n",
              "      fill: #1967D2;\n",
              "      height: 32px;\n",
              "      padding: 0 0 0 0;\n",
              "      width: 32px;\n",
              "    }\n",
              "\n",
              "    .colab-df-convert:hover {\n",
              "      background-color: #E2EBFA;\n",
              "      box-shadow: 0px 1px 2px rgba(60, 64, 67, 0.3), 0px 1px 3px 1px rgba(60, 64, 67, 0.15);\n",
              "      fill: #174EA6;\n",
              "    }\n",
              "\n",
              "    .colab-df-buttons div {\n",
              "      margin-bottom: 4px;\n",
              "    }\n",
              "\n",
              "    [theme=dark] .colab-df-convert {\n",
              "      background-color: #3B4455;\n",
              "      fill: #D2E3FC;\n",
              "    }\n",
              "\n",
              "    [theme=dark] .colab-df-convert:hover {\n",
              "      background-color: #434B5C;\n",
              "      box-shadow: 0px 1px 3px 1px rgba(0, 0, 0, 0.15);\n",
              "      filter: drop-shadow(0px 1px 2px rgba(0, 0, 0, 0.3));\n",
              "      fill: #FFFFFF;\n",
              "    }\n",
              "  </style>\n",
              "\n",
              "    <script>\n",
              "      const buttonEl =\n",
              "        document.querySelector('#df-003a161f-0cfd-4ad9-a93c-8d6017c6ee97 button.colab-df-convert');\n",
              "      buttonEl.style.display =\n",
              "        google.colab.kernel.accessAllowed ? 'block' : 'none';\n",
              "\n",
              "      async function convertToInteractive(key) {\n",
              "        const element = document.querySelector('#df-003a161f-0cfd-4ad9-a93c-8d6017c6ee97');\n",
              "        const dataTable =\n",
              "          await google.colab.kernel.invokeFunction('convertToInteractive',\n",
              "                                                    [key], {});\n",
              "        if (!dataTable) return;\n",
              "\n",
              "        const docLinkHtml = 'Like what you see? Visit the ' +\n",
              "          '<a target=\"_blank\" href=https://colab.research.google.com/notebooks/data_table.ipynb>data table notebook</a>'\n",
              "          + ' to learn more about interactive tables.';\n",
              "        element.innerHTML = '';\n",
              "        dataTable['output_type'] = 'display_data';\n",
              "        await google.colab.output.renderOutput(dataTable, element);\n",
              "        const docLink = document.createElement('div');\n",
              "        docLink.innerHTML = docLinkHtml;\n",
              "        element.appendChild(docLink);\n",
              "      }\n",
              "    </script>\n",
              "  </div>\n",
              "\n",
              "\n",
              "    <div id=\"df-a3130862-f28e-4761-89d0-f86288253af6\">\n",
              "      <button class=\"colab-df-quickchart\" onclick=\"quickchart('df-a3130862-f28e-4761-89d0-f86288253af6')\"\n",
              "                title=\"Suggest charts\"\n",
              "                style=\"display:none;\">\n",
              "\n",
              "<svg xmlns=\"http://www.w3.org/2000/svg\" height=\"24px\"viewBox=\"0 0 24 24\"\n",
              "     width=\"24px\">\n",
              "    <g>\n",
              "        <path d=\"M19 3H5c-1.1 0-2 .9-2 2v14c0 1.1.9 2 2 2h14c1.1 0 2-.9 2-2V5c0-1.1-.9-2-2-2zM9 17H7v-7h2v7zm4 0h-2V7h2v10zm4 0h-2v-4h2v4z\"/>\n",
              "    </g>\n",
              "</svg>\n",
              "      </button>\n",
              "\n",
              "<style>\n",
              "  .colab-df-quickchart {\n",
              "      --bg-color: #E8F0FE;\n",
              "      --fill-color: #1967D2;\n",
              "      --hover-bg-color: #E2EBFA;\n",
              "      --hover-fill-color: #174EA6;\n",
              "      --disabled-fill-color: #AAA;\n",
              "      --disabled-bg-color: #DDD;\n",
              "  }\n",
              "\n",
              "  [theme=dark] .colab-df-quickchart {\n",
              "      --bg-color: #3B4455;\n",
              "      --fill-color: #D2E3FC;\n",
              "      --hover-bg-color: #434B5C;\n",
              "      --hover-fill-color: #FFFFFF;\n",
              "      --disabled-bg-color: #3B4455;\n",
              "      --disabled-fill-color: #666;\n",
              "  }\n",
              "\n",
              "  .colab-df-quickchart {\n",
              "    background-color: var(--bg-color);\n",
              "    border: none;\n",
              "    border-radius: 50%;\n",
              "    cursor: pointer;\n",
              "    display: none;\n",
              "    fill: var(--fill-color);\n",
              "    height: 32px;\n",
              "    padding: 0;\n",
              "    width: 32px;\n",
              "  }\n",
              "\n",
              "  .colab-df-quickchart:hover {\n",
              "    background-color: var(--hover-bg-color);\n",
              "    box-shadow: 0 1px 2px rgba(60, 64, 67, 0.3), 0 1px 3px 1px rgba(60, 64, 67, 0.15);\n",
              "    fill: var(--button-hover-fill-color);\n",
              "  }\n",
              "\n",
              "  .colab-df-quickchart-complete:disabled,\n",
              "  .colab-df-quickchart-complete:disabled:hover {\n",
              "    background-color: var(--disabled-bg-color);\n",
              "    fill: var(--disabled-fill-color);\n",
              "    box-shadow: none;\n",
              "  }\n",
              "\n",
              "  .colab-df-spinner {\n",
              "    border: 2px solid var(--fill-color);\n",
              "    border-color: transparent;\n",
              "    border-bottom-color: var(--fill-color);\n",
              "    animation:\n",
              "      spin 1s steps(1) infinite;\n",
              "  }\n",
              "\n",
              "  @keyframes spin {\n",
              "    0% {\n",
              "      border-color: transparent;\n",
              "      border-bottom-color: var(--fill-color);\n",
              "      border-left-color: var(--fill-color);\n",
              "    }\n",
              "    20% {\n",
              "      border-color: transparent;\n",
              "      border-left-color: var(--fill-color);\n",
              "      border-top-color: var(--fill-color);\n",
              "    }\n",
              "    30% {\n",
              "      border-color: transparent;\n",
              "      border-left-color: var(--fill-color);\n",
              "      border-top-color: var(--fill-color);\n",
              "      border-right-color: var(--fill-color);\n",
              "    }\n",
              "    40% {\n",
              "      border-color: transparent;\n",
              "      border-right-color: var(--fill-color);\n",
              "      border-top-color: var(--fill-color);\n",
              "    }\n",
              "    60% {\n",
              "      border-color: transparent;\n",
              "      border-right-color: var(--fill-color);\n",
              "    }\n",
              "    80% {\n",
              "      border-color: transparent;\n",
              "      border-right-color: var(--fill-color);\n",
              "      border-bottom-color: var(--fill-color);\n",
              "    }\n",
              "    90% {\n",
              "      border-color: transparent;\n",
              "      border-bottom-color: var(--fill-color);\n",
              "    }\n",
              "  }\n",
              "</style>\n",
              "\n",
              "      <script>\n",
              "        async function quickchart(key) {\n",
              "          const quickchartButtonEl =\n",
              "            document.querySelector('#' + key + ' button');\n",
              "          quickchartButtonEl.disabled = true;  // To prevent multiple clicks.\n",
              "          quickchartButtonEl.classList.add('colab-df-spinner');\n",
              "          try {\n",
              "            const charts = await google.colab.kernel.invokeFunction(\n",
              "                'suggestCharts', [key], {});\n",
              "          } catch (error) {\n",
              "            console.error('Error during call to suggestCharts:', error);\n",
              "          }\n",
              "          quickchartButtonEl.classList.remove('colab-df-spinner');\n",
              "          quickchartButtonEl.classList.add('colab-df-quickchart-complete');\n",
              "        }\n",
              "        (() => {\n",
              "          let quickchartButtonEl =\n",
              "            document.querySelector('#df-a3130862-f28e-4761-89d0-f86288253af6 button');\n",
              "          quickchartButtonEl.style.display =\n",
              "            google.colab.kernel.accessAllowed ? 'block' : 'none';\n",
              "        })();\n",
              "      </script>\n",
              "    </div>\n",
              "\n",
              "    </div>\n",
              "  </div>\n"
            ],
            "application/vnd.google.colaboratory.intrinsic+json": {
              "type": "dataframe",
              "summary": "{\n  \"name\": \"print(\\\"Number of duplicate rows:\\\", df\",\n  \"rows\": 8,\n  \"fields\": [\n    {\n      \"column\": \"user_id\",\n      \"properties\": {\n        \"dtype\": \"number\",\n        \"std\": 252951.23119736963,\n        \"min\": 52.29577884350213,\n        \"max\": 546592.0,\n        \"num_unique_values\": 8,\n        \"samples\": [\n          546517.0,\n          546492.5,\n          100.0\n        ],\n        \"semantic_type\": \"\",\n        \"description\": \"\"\n      }\n    },\n    {\n      \"column\": \"time_spent_on_the_page\",\n      \"properties\": {\n        \"dtype\": \"number\",\n        \"std\": 33.733788000034416,\n        \"min\": 0.19,\n        \"max\": 100.0,\n        \"num_unique_values\": 8,\n        \"samples\": [\n          5.377800000000001,\n          5.415,\n          100.0\n        ],\n        \"semantic_type\": \"\",\n        \"description\": \"\"\n      }\n    }\n  ]\n}"
            }
          },
          "metadata": {}
        },
        {
          "output_type": "stream",
          "name": "stdout",
          "text": [
            "Statistical summary (categorical variables):\n"
          ]
        },
        {
          "output_type": "display_data",
          "data": {
            "text/plain": [
              "          group landing_page converted language_preferred\n",
              "count       100          100       100                100\n",
              "unique        2            2         2                  3\n",
              "top     control          old       yes            Spanish\n",
              "freq         50           50        54                 34"
            ],
            "text/html": [
              "\n",
              "  <div id=\"df-c9305b22-7349-4f6c-9700-300559f79e34\" class=\"colab-df-container\">\n",
              "    <div>\n",
              "<style scoped>\n",
              "    .dataframe tbody tr th:only-of-type {\n",
              "        vertical-align: middle;\n",
              "    }\n",
              "\n",
              "    .dataframe tbody tr th {\n",
              "        vertical-align: top;\n",
              "    }\n",
              "\n",
              "    .dataframe thead th {\n",
              "        text-align: right;\n",
              "    }\n",
              "</style>\n",
              "<table border=\"1\" class=\"dataframe\">\n",
              "  <thead>\n",
              "    <tr style=\"text-align: right;\">\n",
              "      <th></th>\n",
              "      <th>group</th>\n",
              "      <th>landing_page</th>\n",
              "      <th>converted</th>\n",
              "      <th>language_preferred</th>\n",
              "    </tr>\n",
              "  </thead>\n",
              "  <tbody>\n",
              "    <tr>\n",
              "      <th>count</th>\n",
              "      <td>100</td>\n",
              "      <td>100</td>\n",
              "      <td>100</td>\n",
              "      <td>100</td>\n",
              "    </tr>\n",
              "    <tr>\n",
              "      <th>unique</th>\n",
              "      <td>2</td>\n",
              "      <td>2</td>\n",
              "      <td>2</td>\n",
              "      <td>3</td>\n",
              "    </tr>\n",
              "    <tr>\n",
              "      <th>top</th>\n",
              "      <td>control</td>\n",
              "      <td>old</td>\n",
              "      <td>yes</td>\n",
              "      <td>Spanish</td>\n",
              "    </tr>\n",
              "    <tr>\n",
              "      <th>freq</th>\n",
              "      <td>50</td>\n",
              "      <td>50</td>\n",
              "      <td>54</td>\n",
              "      <td>34</td>\n",
              "    </tr>\n",
              "  </tbody>\n",
              "</table>\n",
              "</div>\n",
              "    <div class=\"colab-df-buttons\">\n",
              "\n",
              "  <div class=\"colab-df-container\">\n",
              "    <button class=\"colab-df-convert\" onclick=\"convertToInteractive('df-c9305b22-7349-4f6c-9700-300559f79e34')\"\n",
              "            title=\"Convert this dataframe to an interactive table.\"\n",
              "            style=\"display:none;\">\n",
              "\n",
              "  <svg xmlns=\"http://www.w3.org/2000/svg\" height=\"24px\" viewBox=\"0 -960 960 960\">\n",
              "    <path d=\"M120-120v-720h720v720H120Zm60-500h600v-160H180v160Zm220 220h160v-160H400v160Zm0 220h160v-160H400v160ZM180-400h160v-160H180v160Zm440 0h160v-160H620v160ZM180-180h160v-160H180v160Zm440 0h160v-160H620v160Z\"/>\n",
              "  </svg>\n",
              "    </button>\n",
              "\n",
              "  <style>\n",
              "    .colab-df-container {\n",
              "      display:flex;\n",
              "      gap: 12px;\n",
              "    }\n",
              "\n",
              "    .colab-df-convert {\n",
              "      background-color: #E8F0FE;\n",
              "      border: none;\n",
              "      border-radius: 50%;\n",
              "      cursor: pointer;\n",
              "      display: none;\n",
              "      fill: #1967D2;\n",
              "      height: 32px;\n",
              "      padding: 0 0 0 0;\n",
              "      width: 32px;\n",
              "    }\n",
              "\n",
              "    .colab-df-convert:hover {\n",
              "      background-color: #E2EBFA;\n",
              "      box-shadow: 0px 1px 2px rgba(60, 64, 67, 0.3), 0px 1px 3px 1px rgba(60, 64, 67, 0.15);\n",
              "      fill: #174EA6;\n",
              "    }\n",
              "\n",
              "    .colab-df-buttons div {\n",
              "      margin-bottom: 4px;\n",
              "    }\n",
              "\n",
              "    [theme=dark] .colab-df-convert {\n",
              "      background-color: #3B4455;\n",
              "      fill: #D2E3FC;\n",
              "    }\n",
              "\n",
              "    [theme=dark] .colab-df-convert:hover {\n",
              "      background-color: #434B5C;\n",
              "      box-shadow: 0px 1px 3px 1px rgba(0, 0, 0, 0.15);\n",
              "      filter: drop-shadow(0px 1px 2px rgba(0, 0, 0, 0.3));\n",
              "      fill: #FFFFFF;\n",
              "    }\n",
              "  </style>\n",
              "\n",
              "    <script>\n",
              "      const buttonEl =\n",
              "        document.querySelector('#df-c9305b22-7349-4f6c-9700-300559f79e34 button.colab-df-convert');\n",
              "      buttonEl.style.display =\n",
              "        google.colab.kernel.accessAllowed ? 'block' : 'none';\n",
              "\n",
              "      async function convertToInteractive(key) {\n",
              "        const element = document.querySelector('#df-c9305b22-7349-4f6c-9700-300559f79e34');\n",
              "        const dataTable =\n",
              "          await google.colab.kernel.invokeFunction('convertToInteractive',\n",
              "                                                    [key], {});\n",
              "        if (!dataTable) return;\n",
              "\n",
              "        const docLinkHtml = 'Like what you see? Visit the ' +\n",
              "          '<a target=\"_blank\" href=https://colab.research.google.com/notebooks/data_table.ipynb>data table notebook</a>'\n",
              "          + ' to learn more about interactive tables.';\n",
              "        element.innerHTML = '';\n",
              "        dataTable['output_type'] = 'display_data';\n",
              "        await google.colab.output.renderOutput(dataTable, element);\n",
              "        const docLink = document.createElement('div');\n",
              "        docLink.innerHTML = docLinkHtml;\n",
              "        element.appendChild(docLink);\n",
              "      }\n",
              "    </script>\n",
              "  </div>\n",
              "\n",
              "\n",
              "    <div id=\"df-260b6c85-ea70-49fd-87a3-6d8be45b0145\">\n",
              "      <button class=\"colab-df-quickchart\" onclick=\"quickchart('df-260b6c85-ea70-49fd-87a3-6d8be45b0145')\"\n",
              "                title=\"Suggest charts\"\n",
              "                style=\"display:none;\">\n",
              "\n",
              "<svg xmlns=\"http://www.w3.org/2000/svg\" height=\"24px\"viewBox=\"0 0 24 24\"\n",
              "     width=\"24px\">\n",
              "    <g>\n",
              "        <path d=\"M19 3H5c-1.1 0-2 .9-2 2v14c0 1.1.9 2 2 2h14c1.1 0 2-.9 2-2V5c0-1.1-.9-2-2-2zM9 17H7v-7h2v7zm4 0h-2V7h2v10zm4 0h-2v-4h2v4z\"/>\n",
              "    </g>\n",
              "</svg>\n",
              "      </button>\n",
              "\n",
              "<style>\n",
              "  .colab-df-quickchart {\n",
              "      --bg-color: #E8F0FE;\n",
              "      --fill-color: #1967D2;\n",
              "      --hover-bg-color: #E2EBFA;\n",
              "      --hover-fill-color: #174EA6;\n",
              "      --disabled-fill-color: #AAA;\n",
              "      --disabled-bg-color: #DDD;\n",
              "  }\n",
              "\n",
              "  [theme=dark] .colab-df-quickchart {\n",
              "      --bg-color: #3B4455;\n",
              "      --fill-color: #D2E3FC;\n",
              "      --hover-bg-color: #434B5C;\n",
              "      --hover-fill-color: #FFFFFF;\n",
              "      --disabled-bg-color: #3B4455;\n",
              "      --disabled-fill-color: #666;\n",
              "  }\n",
              "\n",
              "  .colab-df-quickchart {\n",
              "    background-color: var(--bg-color);\n",
              "    border: none;\n",
              "    border-radius: 50%;\n",
              "    cursor: pointer;\n",
              "    display: none;\n",
              "    fill: var(--fill-color);\n",
              "    height: 32px;\n",
              "    padding: 0;\n",
              "    width: 32px;\n",
              "  }\n",
              "\n",
              "  .colab-df-quickchart:hover {\n",
              "    background-color: var(--hover-bg-color);\n",
              "    box-shadow: 0 1px 2px rgba(60, 64, 67, 0.3), 0 1px 3px 1px rgba(60, 64, 67, 0.15);\n",
              "    fill: var(--button-hover-fill-color);\n",
              "  }\n",
              "\n",
              "  .colab-df-quickchart-complete:disabled,\n",
              "  .colab-df-quickchart-complete:disabled:hover {\n",
              "    background-color: var(--disabled-bg-color);\n",
              "    fill: var(--disabled-fill-color);\n",
              "    box-shadow: none;\n",
              "  }\n",
              "\n",
              "  .colab-df-spinner {\n",
              "    border: 2px solid var(--fill-color);\n",
              "    border-color: transparent;\n",
              "    border-bottom-color: var(--fill-color);\n",
              "    animation:\n",
              "      spin 1s steps(1) infinite;\n",
              "  }\n",
              "\n",
              "  @keyframes spin {\n",
              "    0% {\n",
              "      border-color: transparent;\n",
              "      border-bottom-color: var(--fill-color);\n",
              "      border-left-color: var(--fill-color);\n",
              "    }\n",
              "    20% {\n",
              "      border-color: transparent;\n",
              "      border-left-color: var(--fill-color);\n",
              "      border-top-color: var(--fill-color);\n",
              "    }\n",
              "    30% {\n",
              "      border-color: transparent;\n",
              "      border-left-color: var(--fill-color);\n",
              "      border-top-color: var(--fill-color);\n",
              "      border-right-color: var(--fill-color);\n",
              "    }\n",
              "    40% {\n",
              "      border-color: transparent;\n",
              "      border-right-color: var(--fill-color);\n",
              "      border-top-color: var(--fill-color);\n",
              "    }\n",
              "    60% {\n",
              "      border-color: transparent;\n",
              "      border-right-color: var(--fill-color);\n",
              "    }\n",
              "    80% {\n",
              "      border-color: transparent;\n",
              "      border-right-color: var(--fill-color);\n",
              "      border-bottom-color: var(--fill-color);\n",
              "    }\n",
              "    90% {\n",
              "      border-color: transparent;\n",
              "      border-bottom-color: var(--fill-color);\n",
              "    }\n",
              "  }\n",
              "</style>\n",
              "\n",
              "      <script>\n",
              "        async function quickchart(key) {\n",
              "          const quickchartButtonEl =\n",
              "            document.querySelector('#' + key + ' button');\n",
              "          quickchartButtonEl.disabled = true;  // To prevent multiple clicks.\n",
              "          quickchartButtonEl.classList.add('colab-df-spinner');\n",
              "          try {\n",
              "            const charts = await google.colab.kernel.invokeFunction(\n",
              "                'suggestCharts', [key], {});\n",
              "          } catch (error) {\n",
              "            console.error('Error during call to suggestCharts:', error);\n",
              "          }\n",
              "          quickchartButtonEl.classList.remove('colab-df-spinner');\n",
              "          quickchartButtonEl.classList.add('colab-df-quickchart-complete');\n",
              "        }\n",
              "        (() => {\n",
              "          let quickchartButtonEl =\n",
              "            document.querySelector('#df-260b6c85-ea70-49fd-87a3-6d8be45b0145 button');\n",
              "          quickchartButtonEl.style.display =\n",
              "            google.colab.kernel.accessAllowed ? 'block' : 'none';\n",
              "        })();\n",
              "      </script>\n",
              "    </div>\n",
              "\n",
              "    </div>\n",
              "  </div>\n"
            ],
            "application/vnd.google.colaboratory.intrinsic+json": {
              "type": "dataframe",
              "summary": "{\n  \"name\": \"print(\\\"Number of duplicate rows:\\\", df\",\n  \"rows\": 4,\n  \"fields\": [\n    {\n      \"column\": \"group\",\n      \"properties\": {\n        \"dtype\": \"string\",\n        \"num_unique_values\": 4,\n        \"samples\": [\n          2,\n          \"50\",\n          \"100\"\n        ],\n        \"semantic_type\": \"\",\n        \"description\": \"\"\n      }\n    },\n    {\n      \"column\": \"landing_page\",\n      \"properties\": {\n        \"dtype\": \"string\",\n        \"num_unique_values\": 4,\n        \"samples\": [\n          2,\n          \"50\",\n          \"100\"\n        ],\n        \"semantic_type\": \"\",\n        \"description\": \"\"\n      }\n    },\n    {\n      \"column\": \"converted\",\n      \"properties\": {\n        \"dtype\": \"string\",\n        \"num_unique_values\": 4,\n        \"samples\": [\n          2,\n          \"54\",\n          \"100\"\n        ],\n        \"semantic_type\": \"\",\n        \"description\": \"\"\n      }\n    },\n    {\n      \"column\": \"language_preferred\",\n      \"properties\": {\n        \"dtype\": \"string\",\n        \"num_unique_values\": 4,\n        \"samples\": [\n          3,\n          \"34\",\n          \"100\"\n        ],\n        \"semantic_type\": \"\",\n        \"description\": \"\"\n      }\n    }\n  ]\n}"
            }
          },
          "metadata": {}
        },
        {
          "output_type": "stream",
          "name": "stdout",
          "text": [
            "Missing values in each column:\n",
            "user_id                   0\n",
            "group                     0\n",
            "landing_page              0\n",
            "time_spent_on_the_page    0\n",
            "converted                 0\n",
            "language_preferred        0\n",
            "dtype: int64\n",
            "Number of duplicate rows: 0\n"
          ]
        }
      ]
    },
    {
      "cell_type": "markdown",
      "metadata": {
        "id": "68f3b2c9"
      },
      "source": [
        "\n",
        "\n",
        "```\n",
        "# This is formatted as code\n",
        "```\n",
        "\n",
        "### Univariate Analysis"
      ],
      "id": "68f3b2c9"
    },
    {
      "cell_type": "code",
      "metadata": {
        "id": "1932d0f3",
        "colab": {
          "base_uri": "https://localhost:8080/",
          "height": 1000
        },
        "outputId": "0762ca82-dcef-417a-fbbe-d672b256a026"
      },
      "source": [
        "# Numeric variable: time_spent_on_the_page\n",
        "\n",
        "# Histogram and boxplot\n",
        "plt.figure(figsize=(12,5))\n",
        "\n",
        "plt.subplot(1,2,1)\n",
        "sns.histplot(df['time_spent_on_the_page'], bins=15, kde=True)\n",
        "plt.title(\"Distribution of Time Spent on the Page\")\n",
        "\n",
        "plt.subplot(1,2,2)\n",
        "sns.boxplot(x=df['time_spent_on_the_page'])\n",
        "plt.title(\"Boxplot of Time Spent on the Page\")\n",
        "\n",
        "plt.show()\n",
        "\n",
        "# Categorical variables: group, landing_page, converted, language_preferred\n",
        "\n",
        "categorical_cols = ['group','landing_page','converted','language_preferred']\n",
        "\n",
        "for col in categorical_cols:\n",
        "    plt.figure(figsize=(6,4))\n",
        "    sns.countplot(x=df[col])\n",
        "    plt.title(f\"Distribution of {col}\")\n",
        "    plt.show()\n",
        "\n",
        "for col in categorical_cols:\n",
        "    print(f\"\\nValue counts for {col}:\")\n",
        "    print(df[col].value_counts())\n",
        "\n",
        "# Observations\n",
        "# 1. Time spent varies from 0.19 to 10.7 and more people spending time around 5\n",
        "# 2. English Language preferenc is little bit smaller than French and Spanish\n",
        "# 3. There are more people who got converted over the full data set rather than who didnt\n",
        "# 4. The control and treatment group data is equally distributed"
      ],
      "id": "1932d0f3",
      "execution_count": 5,
      "outputs": [
        {
          "output_type": "display_data",
          "data": {
            "text/plain": [
              "<Figure size 1200x500 with 2 Axes>"
            ],
            "image/png": "[encoded data removed]"
          },
          "metadata": {}
        },
        {
          "output_type": "display_data",
          "data": {
            "text/plain": [
              "<Figure size 600x400 with 1 Axes>"
            ],
            "image/png": "[encoded data removed]"
          },
          "metadata": {}
        },
        {
          "output_type": "display_data",
          "data": {
            "text/plain": [
              "<Figure size 600x400 with 1 Axes>"
            ],
            "image/png": "[encoded data removed]"
          },
          "metadata": {}
        },
        {
          "output_type": "display_data",
          "data": {
            "text/plain": [
              "<Figure size 600x400 with 1 Axes>"
            ],
            "image/png": "[encoded data removed]"
          },
          "metadata": {}
        },
        {
          "output_type": "display_data",
          "data": {
            "text/plain": [
              "<Figure size 600x400 with 1 Axes>"
            ],
            "image/png": "[encoded data removed]"
          },
          "metadata": {}
        },
        {
          "output_type": "stream",
          "name": "stdout",
          "text": [
            "\n",
            "Value counts for group:\n",
            "group\n",
            "control      50\n",
            "treatment    50\n",
            "Name: count, dtype: int64\n",
            "\n",
            "Value counts for landing_page:\n",
            "landing_page\n",
            "old    50\n",
            "new    50\n",
            "Name: count, dtype: int64\n",
            "\n",
            "Value counts for converted:\n",
            "converted\n",
            "yes    54\n",
            "no     46\n",
            "Name: count, dtype: int64\n",
            "\n",
            "Value counts for language_preferred:\n",
            "language_preferred\n",
            "Spanish    34\n",
            "French     34\n",
            "English    32\n",
            "Name: count, dtype: int64\n"
          ]
        }
      ]
    },
    {
      "cell_type": "markdown",
      "metadata": {
        "id": "fad2de2f"
      },
      "source": [
        "```\n",
        "# This is formatted as code\n",
        "```\n",
        "\n",
        "### Bivariate Analysis"
      ],
      "id": "fad2de2f"
    },
    {
      "cell_type": "code",
      "metadata": {
        "id": "58e9a1d0",
        "colab": {
          "base_uri": "https://localhost:8080/",
          "height": 0
        },
        "outputId": "b4a5f2d2-b5e3-4a9c-a064-1f755c2866ec"
      },
      "source": [
        "# 1. Time spent on page by group\n",
        "plt.figure(figsize=(6,4))\n",
        "sns.boxplot(x=\"group\", y=\"time_spent_on_the_page\", data=df)\n",
        "plt.show()\n",
        "\n",
        "print(\"Average time spent by group:\")\n",
        "print(df.groupby(\"group\")[\"time_spent_on_the_page\"].mean())\n",
        "\n",
        "# Observation - Treatment group (new landing page) has spent more time than control group\n",
        "\n",
        "# 2. Conversion rate by group\n",
        "plt.figure(figsize=(6,4))\n",
        "sns.barplot(x=\"group\", y=df[\"converted\"].map({\"yes\":1, \"no\":0}), data=df)\n",
        "plt.ylabel(\"Conversion Rate\")\n",
        "plt.show()\n",
        "\n",
        "print(\"\\nConversion proportions by group:\")\n",
        "print(df.groupby(\"group\")[\"converted\"].value_counts(normalize=True).unstack())\n",
        "\n",
        "# Observation - Treatment group has more conversion than the control group\n",
        "\n",
        "# 3. Conversion status by language\n",
        "plt.figure(figsize=(6,4))\n",
        "sns.countplot(x=\"language_preferred\", hue=\"converted\", data=df)\n",
        "plt.show()\n",
        "\n",
        "print(\"\\nConversion proportions by language:\")\n",
        "print(pd.crosstab(df['language_preferred'], df['converted'], normalize='index'))\n",
        "\n",
        "# Observation\n",
        "# a. People have much higher conversion in english (0.65)\n",
        "# b. French has very low conversion (0.44)\n",
        "\n",
        "# 4. Time spent on page by language\n",
        "plt.figure(figsize=(6,4))\n",
        "sns.boxplot(x=\"language_preferred\", y=\"time_spent_on_the_page\", data=df)\n",
        "plt.show()\n",
        "\n",
        "print(\"\\nAverage time spent by language:\")\n",
        "print(df.groupby(\"language_preferred\")[\"time_spent_on_the_page\"].mean())\n",
        "\n",
        "# Observation - Avg time spent is pretty much the same across all languages"
      ],
      "id": "58e9a1d0",
      "execution_count": 6,
      "outputs": [
        {
          "output_type": "display_data",
          "data": {
            "text/plain": [
              "<Figure size 600x400 with 1 Axes>"
            ],
            "image/png": "[encoded data removed]"
          },
          "metadata": {}
        },
        {
          "output_type": "stream",
          "name": "stdout",
          "text": [
            "Average time spent by group:\n",
            "group\n",
            "control      4.5324\n",
            "treatment    6.2232\n",
            "Name: time_spent_on_the_page, dtype: float64\n"
          ]
        },
        {
          "output_type": "display_data",
          "data": {
            "text/plain": [
              "<Figure size 600x400 with 1 Axes>"
            ],
            "image/png": "[encoded data removed]"
          },
          "metadata": {}
        },
        {
          "output_type": "stream",
          "name": "stdout",
          "text": [
            "\n",
            "Conversion proportions by group:\n",
            "converted    no   yes\n",
            "group                \n",
            "control    0.58  0.42\n",
            "treatment  0.34  0.66\n"
          ]
        },
        {
          "output_type": "display_data",
          "data": {
            "text/plain": [
              "<Figure size 600x400 with 1 Axes>"
            ],
            "image/png": "[encoded data removed]"
          },
          "metadata": {}
        },
        {
          "output_type": "stream",
          "name": "stdout",
          "text": [
            "\n",
            "Conversion proportions by language:\n",
            "converted                 no       yes\n",
            "language_preferred                    \n",
            "English             0.343750  0.656250\n",
            "French              0.558824  0.441176\n",
            "Spanish             0.470588  0.529412\n"
          ]
        },
        {
          "output_type": "display_data",
          "data": {
            "text/plain": [
              "<Figure size 600x400 with 1 Axes>"
            ],
            "image/png": "[encoded data removed]"
          },
          "metadata": {}
        },
        {
          "output_type": "stream",
          "name": "stdout",
          "text": [
            "\n",
            "Average time spent by language:\n",
            "language_preferred\n",
            "English    5.559062\n",
            "French     5.253235\n",
            "Spanish    5.331765\n",
            "Name: time_spent_on_the_page, dtype: float64\n"
          ]
        }
      ]
    },
    {
      "cell_type": "markdown",
      "metadata": {
        "id": "27906576"
      },
      "source": [
        "## 1. Do the users spend more time on the new landing page than the existing landing page?"
      ],
      "id": "27906576"
    },
    {
      "cell_type": "markdown",
      "metadata": {
        "id": "e5fdf0c8"
      },
      "source": [
        "### Perform Visual Analysis"
      ],
      "id": "e5fdf0c8"
    },
    {
      "cell_type": "code",
      "metadata": {
        "id": "6eZJa41eg21n",
        "colab": {
          "base_uri": "https://localhost:8080/",
          "height": 397
        },
        "outputId": "90fe4cc6-5a2d-4c49-fb67-12d0f39a5e06"
      },
      "source": [
        "plt.figure(figsize=(6,4))\n",
        "sns.boxplot(x=\"landing_page\", y=\"time_spent_on_the_page\", data=df)\n",
        "plt.show()\n",
        "\n",
        "# Observation:\n",
        "# 1. Looks like time spent on new landing page is higher\n",
        "# 2. Time spent is lower in old and the times are also having a higher range of times"
      ],
      "id": "6eZJa41eg21n",
      "execution_count": 7,
      "outputs": [
        {
          "output_type": "display_data",
          "data": {
            "text/plain": [
              "<Figure size 600x400 with 1 Axes>"
            ],
            "image/png": "[encoded data removed]"
          },
          "metadata": {}
        }
      ]
    },
    {
      "cell_type": "markdown",
      "metadata": {
        "id": "56b3dafd"
      },
      "source": [
        "### Step 1: Define the null and alternate hypotheses\n",
        "\n",
        "> **Null Hypothesis (H0):**  \n",
        "> The mean time spent on the new landing page is **less than or equal to** the mean time spent on the old landing page.  \n",
        ">\n",
        "> **Alternate Hypothesis (H1):**  \n",
        "> The mean time spent on the new landing page is **greater than** the mean time spent on the old landing page.  \n",
        "\n"
      ],
      "id": "56b3dafd"
    },
    {
      "cell_type": "markdown",
      "metadata": {
        "id": "d2ac77ef"
      },
      "source": [],
      "id": "d2ac77ef"
    },
    {
      "cell_type": "markdown",
      "metadata": {
        "id": "c7ee4907"
      },
      "source": [
        "### Step 2: Select Appropriate test"
      ],
      "id": "c7ee4907"
    },
    {
      "cell_type": "markdown",
      "metadata": {
        "id": "2c183cd7"
      },
      "source": [
        "> Since we are comparing the **mean time spent** between two independent groups  (old landing page vs. new landing page), the appropriate test is a  **Two Independent Sample t-test**.  \n",
        ">\n",
        ">  This is a **one-tailed test** because we are specifically interested in whether the new landing page results in **greater time spent** than the old landing page.  "
      ],
      "id": "2c183cd7"
    },
    {
      "cell_type": "markdown",
      "metadata": {
        "id": "3f58c9a7"
      },
      "source": [
        "### Step 3: Decide the significance level"
      ],
      "id": "3f58c9a7"
    },
    {
      "cell_type": "markdown",
      "metadata": {
        "id": "92d7d7ee"
      },
      "source": [
        "> We will use a **5% significance level (alpha = 0.05)**.  \n",
        ">\n",
        "> This means we are willing to accept a 5% chance of rejecting the null hypothesis when it is actually true. This helps us give a balance between being too strict (alpha = 0.01) and too lenient (alpha = 0.10).\n",
        ">\n",
        "> - If the p-value is less than or equal to alpha 0.05 → Reject H0 (evidence supports the alternative).  \n",
        "> - If the p-value is greater than alpha 0.05 → Fail to reject H0 (not enough evidence to support the alternative).  "
      ],
      "id": "92d7d7ee"
    },
    {
      "cell_type": "markdown",
      "metadata": {
        "id": "5fed2eac"
      },
      "source": [
        "### Step 4: Collect and prepare data"
      ],
      "id": "5fed2eac"
    },
    {
      "cell_type": "code",
      "metadata": {
        "id": "f5a59495",
        "colab": {
          "base_uri": "https://localhost:8080/"
        },
        "outputId": "149b6706-787a-4fbe-9e30-112da0fafa2f"
      },
      "source": [
        "# Split the dataset into old and new landing page groups\n",
        "old_page = df[df['landing_page'] == 'old']['time_spent_on_the_page']\n",
        "new_page = df[df['landing_page'] == 'new']['time_spent_on_the_page']\n",
        "\n",
        "print(\"Number of users on old page:\", len(old_page))\n",
        "print(\"Number of users on new page:\", len(new_page))\n",
        "print(\"\\nAverage time on old page:\", round(old_page.mean(), 2))\n",
        "print(\"Average time on new page:\", round(new_page.mean(), 2))"
      ],
      "id": "f5a59495",
      "execution_count": 8,
      "outputs": [
        {
          "output_type": "stream",
          "name": "stdout",
          "text": [
            "Number of users on old page: 50\n",
            "Number of users on new page: 50\n",
            "\n",
            "Average time on old page: 4.53\n",
            "Average time on new page: 6.22\n"
          ]
        }
      ]
    },
    {
      "cell_type": "markdown",
      "metadata": {
        "id": "f5c5258d"
      },
      "source": [
        "### Step 5: Calculate the p-value"
      ],
      "id": "f5c5258d"
    },
    {
      "cell_type": "code",
      "metadata": {
        "id": "fac8594a",
        "colab": {
          "base_uri": "https://localhost:8080/"
        },
        "outputId": "d5b159f5-afda-4c43-ae33-b38c829d5936"
      },
      "source": [
        "from scipy.stats import ttest_ind\n",
        "\n",
        "# Perform two independent sample t-test\n",
        "t_stat, p_val_two_tailed = ttest_ind(new_page, old_page)\n",
        "\n",
        "# Convert to one-tailed p-value\n",
        "p_val_one_tailed = p_val_two_tailed / 2\n",
        "\n",
        "print(\"T-statistic:\", t_stat)\n",
        "print(\"One-tailed p-value:\", p_val_one_tailed)"
      ],
      "id": "fac8594a",
      "execution_count": 9,
      "outputs": [
        {
          "output_type": "stream",
          "name": "stdout",
          "text": [
            "T-statistic: 3.7867702694199856\n",
            "One-tailed p-value: 0.0001316123528095005\n"
          ]
        }
      ]
    },
    {
      "cell_type": "markdown",
      "metadata": {
        "id": "359b12f8"
      },
      "source": [
        "### Step 6: Compare the p-value with alpha"
      ],
      "id": "359b12f8"
    },
    {
      "cell_type": "code",
      "metadata": {
        "id": "7be47289",
        "colab": {
          "base_uri": "https://localhost:8080/"
        },
        "outputId": "c88e3baa-026d-423a-bcd9-f1bde5c51295"
      },
      "source": [
        "alpha = 0.05\n",
        "\n",
        "print(\"One-tailed p-value:\", p_val_one_tailed)\n",
        "print(\"Significance level (alpha):\", alpha)\n",
        "\n",
        "if (t_stat > 0) and (p_val_one_tailed <= alpha):\n",
        "    print(\"\\nConclusion: Reject H0 → Users spend significantly MORE time on the new landing page.\")\n",
        "else:\n",
        "    print(\"\\nConclusion: Fail to reject H0 → No significant evidence that users spend more time on the new page.\")\n"
      ],
      "id": "7be47289",
      "execution_count": 10,
      "outputs": [
        {
          "output_type": "stream",
          "name": "stdout",
          "text": [
            "One-tailed p-value: 0.0001316123528095005\n",
            "Significance level (alpha): 0.05\n",
            "\n",
            "Conclusion: Reject H0 → Users spend significantly MORE time on the new landing page.\n"
          ]
        }
      ]
    },
    {
      "cell_type": "markdown",
      "metadata": {
        "id": "d9affc84"
      },
      "source": [
        "### Step 7:  Draw inference"
      ],
      "id": "d9affc84"
    },
    {
      "cell_type": "markdown",
      "metadata": {
        "id": "6b16dd4b"
      },
      "source": [
        "> At the 5% significance level, the **p-value was much smaller than 0.05**.  \n",
        "> Therefore, we **reject the null hypothesis**.  \n",
        ">\n",
        "> **Final Inference:**  \n",
        "> Users spend **significantly more time** on the **new landing page** compared to the old landing page.  \n",
        ">  \n",
        "> This suggests that the new landing page is effective in keeping users engaged longer."
      ],
      "id": "6b16dd4b"
    },
    {
      "cell_type": "markdown",
      "metadata": {
        "id": "1ad0823a"
      },
      "source": [
        "**A similar approach can be followed to answer the other questions.**"
      ],
      "id": "1ad0823a"
    },
    {
      "cell_type": "markdown",
      "metadata": {
        "id": "353e9d24"
      },
      "source": [
        "## 2. Is the conversion rate (the proportion of users who visit the landing page and get converted) for the new page greater than the conversion rate for the old page?"
      ],
      "id": "353e9d24"
    },
    {
      "cell_type": "code",
      "metadata": {
        "id": "b7f52898",
        "colab": {
          "base_uri": "https://localhost:8080/",
          "height": 618
        },
        "outputId": "8d43e975-cc69-4c5a-f212-98860cf60c26"
      },
      "source": [
        "# --- Step 1: Visual analysis (barplot of conversion rate by landing_page) ---\n",
        "df_tmp = df.copy()\n",
        "df_tmp['converted_bin'] = (df_tmp['converted'].str.lower() == 'yes').astype(int)\n",
        "\n",
        "rates_df = (\n",
        "    df_tmp.groupby('landing_page')['converted_bin']\n",
        "          .mean()\n",
        "          .reset_index(name='conversion_rate')\n",
        "          .sort_values('landing_page')\n",
        ")\n",
        "\n",
        "plt.figure(figsize=(6,4))\n",
        "ax = sns.barplot(x='landing_page', y='conversion_rate', data=rates_df)\n",
        "ax.set_ylabel('Conversion Rate')\n",
        "for p in ax.patches:\n",
        "    height = p.get_height()\n",
        "    ax.annotate(f\"{height*100:.1f}%\", (p.get_x()+p.get_width()/2, height),\n",
        "                ha='center', va='bottom', xytext=(0,3), textcoords='offset points')\n",
        "plt.show()\n",
        "\n",
        "\n",
        "# --- Step 2: Hypotheses ---\n",
        "# H0: p_new is less than or equal to p_old\n",
        "# H1: p_new is greater than p_old (one-tailed)\n",
        "\n",
        "# --- Step 3: Select the appropriate test ---\n",
        "# We are comparing two proportions (conversion rates) from two independent groups (old vs new).\n",
        "# The appropriate test is a Two-Proportion Z-test because:\n",
        "#   - The outcome variable (converted) is categorical (yes/no).\n",
        "#   - We are testing differences in proportions, not means.\n",
        "#   - The groups (old vs new) are independent samples.\n",
        "#   - Sample size is reasonably large, so normal approximation applies.\n",
        "\n",
        "# --- Step 4: Collect and prepare data ---\n",
        "# Extract counts of \"successes\" (conversions) and sample sizes for each group,\n",
        "# then compute sample proportions to feed into the two-proportion z-test.\n",
        "old_mask = df_tmp['landing_page'].str.lower() == 'old'\n",
        "new_mask = df_tmp['landing_page'].str.lower() == 'new'\n",
        "\n",
        "x_old = int(df_tmp.loc[old_mask, 'converted_bin'].sum())     # successes in old\n",
        "n_old = int(old_mask.sum())\n",
        "x_new = int(df_tmp.loc[new_mask, 'converted_bin'].sum())     # successes in new\n",
        "n_new = int(new_mask.sum())\n",
        "\n",
        "p_old = x_old / n_old\n",
        "p_new = x_new / n_new\n",
        "\n",
        "print(\"\\nStep 4: Data Summary\")\n",
        "print(f\"Old page:  x_old = {x_old}, n_old = {n_old}, p_old = {p_old:.3f}\")\n",
        "print(f\"New page:  x_new = {x_new}, n_new = {n_new}, p_new = {p_new:.3f}\")\n",
        "\n",
        "# --- Step 5: Calculate the p-value ---\n",
        "# Pooled proportion under H0, standard error, z-statistic, and one-tailed p-value (H1: p_new > p_old)\n",
        "p_pool = (x_old + x_new) / (n_old + n_new)\n",
        "se = sqrt(p_pool * (1 - p_pool) * (1/n_old + 1/n_new))\n",
        "z_stat = (p_new - p_old) / se\n",
        "p_value_one_tailed = norm.sf(z_stat)\n",
        "\n",
        "print(\"\\nStep 5: Test Statistic and p-value\")\n",
        "print(f\"z-statistic = {z_stat:.4f}\")\n",
        "print(f\"one-tailed p-value = {p_value_one_tailed:.6f}\")\n",
        "\n",
        "# --- Step 6: Compare the p-value with α ---\n",
        "alpha = 0.05\n",
        "decision = \"Reject H0\" if (z_stat > 0) and (p_value_one_tailed <= alpha) else \"Fail to reject H0\"\n",
        "print(\"\\nStep 6: Decision Rule\")\n",
        "print(f\"alpha = {alpha}\")\n",
        "print(f\"Decision: {decision}\")\n",
        "\n",
        "# --- Step 7: Final Inference ---\n",
        "# The test gave a z-statistic of about 2.41 and a one-tailed p-value ≈ 0.008.\n",
        "# Since 0.008 < alpha (0.05), we REJECT the null hypothesis.\n",
        "# This provides strong statistical evidence that the NEW landing page\n",
        "# has a significantly HIGHER conversion rate than the OLD landing page."
      ],
      "id": "b7f52898",
      "execution_count": 11,
      "outputs": [
        {
          "output_type": "display_data",
          "data": {
            "text/plain": [
              "<Figure size 600x400 with 1 Axes>"
            ],
            "image/png": "[encoded data removed]"
          },
          "metadata": {}
        },
        {
          "output_type": "stream",
          "name": "stdout",
          "text": [
            "\n",
            "Step 4: Data Summary\n",
            "Old page:  x_old = 21, n_old = 50, p_old = 0.420\n",
            "New page:  x_new = 33, n_new = 50, p_new = 0.660\n",
            "\n",
            "Step 5: Test Statistic and p-value\n",
            "z-statistic = 2.4077\n",
            "one-tailed p-value = 0.008026\n",
            "\n",
            "Step 6: Decision Rule\n",
            "alpha = 0.05\n",
            "Decision: Reject H0\n"
          ]
        }
      ]
    },
    {
      "cell_type": "markdown",
      "metadata": {
        "id": "d49bfa2d"
      },
      "source": [
        "## 3. Is the conversion and preferred language are independent or related?"
      ],
      "id": "d49bfa2d"
    },
    {
      "cell_type": "code",
      "metadata": {
        "id": "b0e63f17",
        "colab": {
          "base_uri": "https://localhost:8080/",
          "height": 702
        },
        "outputId": "eaf87237-5857-46d2-e13a-0c86c1879748"
      },
      "source": [
        "# --- Step 1: Visual analysis (stacked barplot of conversion by language) ---\n",
        "crosstab_counts = pd.crosstab(df['language_preferred'], df['converted'])\n",
        "\n",
        "crosstab_counts.plot(kind=\"bar\", stacked=True, figsize=(7,5), colormap=\"Set2\")\n",
        "plt.ylabel(\"Number of Users\")\n",
        "plt.title(\"Conversion Status by Language\")\n",
        "plt.show()\n",
        "\n",
        "# --- Step 2: Hypotheses ---\n",
        "# H0: Conversion status is independent of preferred language.\n",
        "# H1: Conversion status is dependent on preferred language.\n",
        "\n",
        "# --- Step 3: Select the appropriate test (and why) ---\n",
        "# Appropriate test: Chi-Square Test of Independence\n",
        "# Reasoning:\n",
        "#   - Both variables (converted, language_preferred) are categorical.\n",
        "#   - We want to check if there's an association between them.\n",
        "#   - The chi-square test compares observed frequencies with expected frequencies under independence.\n",
        "\n",
        "# --- Step 4: Collect and prepare data ---\n",
        "# Create contingency table (language × converted)\n",
        "contingency_table = pd.crosstab(df['language_preferred'], df['converted'])\n",
        "\n",
        "# --- Step 5: Calculate the test statistic and p-value ---\n",
        "chi2, p_value, dof, expected = chi2_contingency(contingency_table)\n",
        "\n",
        "print(\"\\nStep 5: Test Statistic and p-value\")\n",
        "print(f\"Chi-square statistic = {chi2:.4f}\")\n",
        "print(f\"Degrees of freedom = {dof}\")\n",
        "print(f\"p-value = {p_value:.6f}\")\n",
        "\n",
        "# --- Step 6: Compare the p-value with α ---\n",
        "alpha = 0.05\n",
        "decision = \"Reject H0\" if p_value <= alpha else \"Fail to reject H0\"\n",
        "print(\"\\nStep 6: Decision Rule\")\n",
        "print(f\"alpha = {alpha}\")\n",
        "print(f\"Decision: {decision}\")\n",
        "\n",
        "# --- Step 7: Final Inference ---\n",
        "# The chi-square statistic was about 3.09 with 2 degrees of freedom,\n",
        "# and the p-value ≈ 0.213, which is GREATER than alpha = 0.05.\n",
        "# Therefore, we FAIL to reject the null hypothesis.\n",
        "# This means there is no statistically significant evidence that conversion status depends on preferred language."
      ],
      "id": "b0e63f17",
      "execution_count": 12,
      "outputs": [
        {
          "output_type": "display_data",
          "data": {
            "text/plain": [
              "<Figure size 700x500 with 1 Axes>"
            ],
            "image/png": "[encoded data removed]"
          },
          "metadata": {}
        },
        {
          "output_type": "stream",
          "name": "stdout",
          "text": [
            "\n",
            "Step 5: Test Statistic and p-value\n",
            "Chi-square statistic = 3.0930\n",
            "Degrees of freedom = 2\n",
            "p-value = 0.212989\n",
            "\n",
            "Step 6: Decision Rule\n",
            "alpha = 0.05\n",
            "Decision: Fail to reject H0\n"
          ]
        }
      ]
    },
    {
      "cell_type": "markdown",
      "metadata": {
        "id": "8d585a90"
      },
      "source": [
        "## 4. Is the time spent on the new page same for the different language users?\n",
        "\n",
        "> Add blockquote\n",
        "\n"
      ],
      "id": "8d585a90"
    },
    {
      "cell_type": "code",
      "metadata": {
        "id": "b422f395",
        "colab": {
          "base_uri": "https://localhost:8080/",
          "height": 748
        },
        "outputId": "204991dc-988f-4c1b-e8c4-adcb5b265cd1"
      },
      "source": [
        "# --- Step 1: Visual analysis (boxplot of time by language for new page only) ---\n",
        "new_page_df = df[df['landing_page'].str.lower() == 'new']\n",
        "\n",
        "plt.figure(figsize=(7,5))\n",
        "sns.boxplot(x=\"language_preferred\", y=\"time_spent_on_the_page\", data=new_page_df, palette=\"Set2\")\n",
        "plt.ylabel(\"Time Spent (minutes)\")\n",
        "plt.title(\"Time Spent on New Page by Language\")\n",
        "plt.show()\n",
        "\n",
        "# --- Step 2: Hypotheses ---\n",
        "# H0: Mean time spent is the same across all language groups.\n",
        "# H1: Mean time spent differs for at least one language group.\n",
        "\n",
        "# --- Step 3: Select the appropriate test (and why) ---\n",
        "# Appropriate test: One-Way ANOVA\n",
        "# Reasoning:\n",
        "#   - The outcome variable (time_spent_on_the_page) is numeric.\n",
        "#   - We are comparing means across more than two independent groups (languages).\n",
        "#   - ANOVA tests if at least one group mean differs significantly.\n",
        "\n",
        "\n",
        "# --- Step 4: Collect and prepare data ---\n",
        "# Extract time spent values by language for new page users\n",
        "groups = [grp[\"time_spent_on_the_page\"].values for _, grp in new_page_df.groupby(\"language_preferred\")]\n",
        "\n",
        "# --- Step 5: Calculate the test statistic and p-value ---\n",
        "f_stat, p_value = f_oneway(*groups)\n",
        "\n",
        "print(\"\\nStep 5: Test Statistic and p-value\")\n",
        "print(f\"F-statistic = {f_stat:.4f}\")\n",
        "print(f\"p-value = {p_value:.6f}\")\n",
        "\n",
        "# --- Step 6: Compare the p-value with α ---\n",
        "alpha = 0.05\n",
        "decision = \"Reject H0\" if p_value <= alpha else \"Fail to reject H0\"\n",
        "print(\"\\nStep 6: Decision Rule\")\n",
        "print(f\"alpha = {alpha}\")\n",
        "print(f\"Decision: {decision}\")\n",
        "\n",
        "# --- Step 7: Final Inference ---\n",
        "# The F-statistic was about 0.85 and the p-value ≈ 0.432, which is GREATER than alpha = 0.05.\n",
        "# Therefore, we FAIL to reject the null hypothesis.\n",
        "# This means there is no statistically significant evidence that the average time spent\n",
        "# on the NEW landing page differs across language groups."
      ],
      "id": "b422f395",
      "execution_count": 13,
      "outputs": [
        {
          "output_type": "stream",
          "name": "stderr",
          "text": [
            "/tmp/ipython-input-3759031412.py:5: FutureWarning: \n",
            "\n",
            "Passing `palette` without assigning `hue` is deprecated and will be removed in v0.14.0. Assign the `x` variable to `hue` and set `legend=False` for the same effect.\n",
            "\n",
            "  sns.boxplot(x=\"language_preferred\", y=\"time_spent_on_the_page\", data=new_page_df, palette=\"Set2\")\n"
          ]
        },
        {
          "output_type": "display_data",
          "data": {
            "text/plain": [
              "<Figure size 700x500 with 1 Axes>"
            ],
            "image/png": "[encoded data removed]"
          },
          "metadata": {}
        },
        {
          "output_type": "stream",
          "name": "stdout",
          "text": [
            "\n",
            "Step 5: Test Statistic and p-value\n",
            "F-statistic = 0.8544\n",
            "p-value = 0.432041\n",
            "\n",
            "Step 6: Decision Rule\n",
            "alpha = 0.05\n",
            "Decision: Fail to reject H0\n"
          ]
        }
      ]
    },
    {
      "cell_type": "markdown",
      "metadata": {
        "id": "3acbc947"
      },
      "source": [
        "## Conclusion and Business Recommendations"
      ],
      "id": "3acbc947"
    },
    {
      "cell_type": "markdown",
      "metadata": {
        "id": "21fb1063"
      },
      "source": [
        "## Conclusion and Business Recommendations\n",
        "\n",
        "### Key Findings\n",
        "1. **Time Spent**  \n",
        "   - Users spent significantly more time on the **new landing page** than the old page.  \n",
        "   - Evidence that the new design increases user engagement.\n",
        "\n",
        "2. **Conversion Rate**  \n",
        "   - Conversion rate was significantly higher for the **new landing page**.  \n",
        "   - Strong evidence that the new design leads to more subscriptions.\n",
        "\n",
        "3. **Conversion vs Language**  \n",
        "   - No significant relationship between **conversion status** and **preferred language**.  \n",
        "   - Users convert at similar rates regardless of language preference.\n",
        "\n",
        "4. **Time Spent vs Language**  \n",
        "   - No significant difference in **time spent** across language groups for the new page.  \n",
        "   - Engagement levels are consistent across different language users.\n",
        "\n",
        "---\n",
        "\n",
        "### Business Recommendations\n",
        "- **Adopt the new landing page design**:  \n",
        "  The new desgn improves both engagement (time spent) and conversion rate, directly supporting business growth.  \n",
        "\n",
        "- **No urgent need for language-specific changes**:  \n",
        "  Since conversion and engagement are not significantly different across languages, the current language support is effective.  \n",
        "\n",
        "- **Leverage consistency across languages**:  \n",
        "  Since results are stable across language groups, scaling the same design across all supported languages is efficient and cost-effective.\n",
        "\n",
        "---\n",
        "\n",
        "**Final Note:**  \n",
        "The new landing page is statistically proven to be more effective.  \n",
        "**Recommendation: Roll out the new page to all users to maximize engagement and subscriptions.**\n"
      ],
      "id": "21fb1063"
    },
    {
      "cell_type": "markdown",
      "source": [
        "___"
      ],
      "metadata": {
        "id": "U0dAd4i0iCHo"
      },
      "id": "U0dAd4i0iCHo"
    }
  ]
}